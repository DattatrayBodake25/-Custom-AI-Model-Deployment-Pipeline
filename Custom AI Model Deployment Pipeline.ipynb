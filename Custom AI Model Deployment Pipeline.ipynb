{
 "cells": [
  {
   "cell_type": "markdown",
   "id": "b64c364d",
   "metadata": {},
   "source": [
    "# ParaphraseAI: Building and Deploying a Text Paraphrasing Model with Docker and Kubernetes"
   ]
  },
  {
   "cell_type": "markdown",
   "id": "6f2e82d5",
   "metadata": {},
   "source": [
    "# Objective:\n",
    "Develop a simple AI model and set up a deployment pipeline using Docker and Kubernetes. The candidate will also need to create a basic web service (using either Python or Go Lang) that interacts with the AI model and stores results in a MySQL  database."
   ]
  },
  {
   "cell_type": "markdown",
   "id": "581ad17d",
   "metadata": {},
   "source": [
    "# Import Libraries:"
   ]
  },
  {
   "cell_type": "code",
   "execution_count": 1,
   "id": "9ae7fe33",
   "metadata": {
    "ExecuteTime": {
     "end_time": "2023-12-05T13:44:15.920071Z",
     "start_time": "2023-12-05T13:43:55.339695Z"
    }
   },
   "outputs": [],
   "source": [
    "import pandas as pd\n",
    "import re\n",
    "import tensorflow as tf\n",
    "from sklearn.model_selection import train_test_split\n",
    "from tensorflow.keras.preprocessing.text import Tokenizer\n",
    "from tensorflow.keras.preprocessing.sequence import pad_sequences\n",
    "from tensorflow.keras.models import Model\n",
    "from tensorflow.keras.layers import Input, Embedding, Bidirectional, LSTM, Dense, Concatenate\n",
    "from tensorflow.keras.optimizers import Adam\n",
    "from tensorflow.keras.metrics import BinaryAccuracy\n",
    "from nltk.corpus import stopwords\n",
    "from nltk.stem import WordNetLemmatizer\n",
    "\n",
    "import warnings\n",
    "warnings.filterwarnings('ignore')"
   ]
  },
  {
   "cell_type": "markdown",
   "id": "9ab07c3d",
   "metadata": {},
   "source": [
    "# Load Dataset"
   ]
  },
  {
   "cell_type": "code",
   "execution_count": 2,
   "id": "dda63d02",
   "metadata": {
    "ExecuteTime": {
     "end_time": "2023-12-05T13:44:36.662430Z",
     "start_time": "2023-12-05T13:44:15.925980Z"
    }
   },
   "outputs": [],
   "source": [
    "train_df = pd.read_csv(r\"C:\\Users\\bodak\\Downloads\\quora-question-pairs\\train.csv\\train.csv\")\n",
    "test_df = pd.read_csv(r\"C:\\Users\\bodak\\Downloads\\quora-question-pairs\\test.csv\\test.csv\")"
   ]
  },
  {
   "cell_type": "code",
   "execution_count": 3,
   "id": "139db404",
   "metadata": {
    "ExecuteTime": {
     "end_time": "2023-12-05T13:44:36.740503Z",
     "start_time": "2023-12-05T13:44:36.667684Z"
    }
   },
   "outputs": [
    {
     "data": {
      "text/html": [
       "<div>\n",
       "<style scoped>\n",
       "    .dataframe tbody tr th:only-of-type {\n",
       "        vertical-align: middle;\n",
       "    }\n",
       "\n",
       "    .dataframe tbody tr th {\n",
       "        vertical-align: top;\n",
       "    }\n",
       "\n",
       "    .dataframe thead th {\n",
       "        text-align: right;\n",
       "    }\n",
       "</style>\n",
       "<table border=\"1\" class=\"dataframe\">\n",
       "  <thead>\n",
       "    <tr style=\"text-align: right;\">\n",
       "      <th></th>\n",
       "      <th>id</th>\n",
       "      <th>qid1</th>\n",
       "      <th>qid2</th>\n",
       "      <th>question1</th>\n",
       "      <th>question2</th>\n",
       "      <th>is_duplicate</th>\n",
       "    </tr>\n",
       "  </thead>\n",
       "  <tbody>\n",
       "    <tr>\n",
       "      <th>0</th>\n",
       "      <td>0</td>\n",
       "      <td>1</td>\n",
       "      <td>2</td>\n",
       "      <td>What is the step by step guide to invest in sh...</td>\n",
       "      <td>What is the step by step guide to invest in sh...</td>\n",
       "      <td>0</td>\n",
       "    </tr>\n",
       "    <tr>\n",
       "      <th>1</th>\n",
       "      <td>1</td>\n",
       "      <td>3</td>\n",
       "      <td>4</td>\n",
       "      <td>What is the story of Kohinoor (Koh-i-Noor) Dia...</td>\n",
       "      <td>What would happen if the Indian government sto...</td>\n",
       "      <td>0</td>\n",
       "    </tr>\n",
       "    <tr>\n",
       "      <th>2</th>\n",
       "      <td>2</td>\n",
       "      <td>5</td>\n",
       "      <td>6</td>\n",
       "      <td>How can I increase the speed of my internet co...</td>\n",
       "      <td>How can Internet speed be increased by hacking...</td>\n",
       "      <td>0</td>\n",
       "    </tr>\n",
       "    <tr>\n",
       "      <th>3</th>\n",
       "      <td>3</td>\n",
       "      <td>7</td>\n",
       "      <td>8</td>\n",
       "      <td>Why am I mentally very lonely? How can I solve...</td>\n",
       "      <td>Find the remainder when [math]23^{24}[/math] i...</td>\n",
       "      <td>0</td>\n",
       "    </tr>\n",
       "    <tr>\n",
       "      <th>4</th>\n",
       "      <td>4</td>\n",
       "      <td>9</td>\n",
       "      <td>10</td>\n",
       "      <td>Which one dissolve in water quikly sugar, salt...</td>\n",
       "      <td>Which fish would survive in salt water?</td>\n",
       "      <td>0</td>\n",
       "    </tr>\n",
       "    <tr>\n",
       "      <th>5</th>\n",
       "      <td>5</td>\n",
       "      <td>11</td>\n",
       "      <td>12</td>\n",
       "      <td>Astrology: I am a Capricorn Sun Cap moon and c...</td>\n",
       "      <td>I'm a triple Capricorn (Sun, Moon and ascendan...</td>\n",
       "      <td>1</td>\n",
       "    </tr>\n",
       "    <tr>\n",
       "      <th>6</th>\n",
       "      <td>6</td>\n",
       "      <td>13</td>\n",
       "      <td>14</td>\n",
       "      <td>Should I buy tiago?</td>\n",
       "      <td>What keeps childern active and far from phone ...</td>\n",
       "      <td>0</td>\n",
       "    </tr>\n",
       "    <tr>\n",
       "      <th>7</th>\n",
       "      <td>7</td>\n",
       "      <td>15</td>\n",
       "      <td>16</td>\n",
       "      <td>How can I be a good geologist?</td>\n",
       "      <td>What should I do to be a great geologist?</td>\n",
       "      <td>1</td>\n",
       "    </tr>\n",
       "    <tr>\n",
       "      <th>8</th>\n",
       "      <td>8</td>\n",
       "      <td>17</td>\n",
       "      <td>18</td>\n",
       "      <td>When do you use シ instead of し?</td>\n",
       "      <td>When do you use \"&amp;\" instead of \"and\"?</td>\n",
       "      <td>0</td>\n",
       "    </tr>\n",
       "    <tr>\n",
       "      <th>9</th>\n",
       "      <td>9</td>\n",
       "      <td>19</td>\n",
       "      <td>20</td>\n",
       "      <td>Motorola (company): Can I hack my Charter Moto...</td>\n",
       "      <td>How do I hack Motorola DCX3400 for free internet?</td>\n",
       "      <td>0</td>\n",
       "    </tr>\n",
       "  </tbody>\n",
       "</table>\n",
       "</div>"
      ],
      "text/plain": [
       "   id  qid1  qid2                                          question1  \\\n",
       "0   0     1     2  What is the step by step guide to invest in sh...   \n",
       "1   1     3     4  What is the story of Kohinoor (Koh-i-Noor) Dia...   \n",
       "2   2     5     6  How can I increase the speed of my internet co...   \n",
       "3   3     7     8  Why am I mentally very lonely? How can I solve...   \n",
       "4   4     9    10  Which one dissolve in water quikly sugar, salt...   \n",
       "5   5    11    12  Astrology: I am a Capricorn Sun Cap moon and c...   \n",
       "6   6    13    14                                Should I buy tiago?   \n",
       "7   7    15    16                     How can I be a good geologist?   \n",
       "8   8    17    18                    When do you use シ instead of し?   \n",
       "9   9    19    20  Motorola (company): Can I hack my Charter Moto...   \n",
       "\n",
       "                                           question2  is_duplicate  \n",
       "0  What is the step by step guide to invest in sh...             0  \n",
       "1  What would happen if the Indian government sto...             0  \n",
       "2  How can Internet speed be increased by hacking...             0  \n",
       "3  Find the remainder when [math]23^{24}[/math] i...             0  \n",
       "4            Which fish would survive in salt water?             0  \n",
       "5  I'm a triple Capricorn (Sun, Moon and ascendan...             1  \n",
       "6  What keeps childern active and far from phone ...             0  \n",
       "7          What should I do to be a great geologist?             1  \n",
       "8              When do you use \"&\" instead of \"and\"?             0  \n",
       "9  How do I hack Motorola DCX3400 for free internet?             0  "
      ]
     },
     "execution_count": 3,
     "metadata": {},
     "output_type": "execute_result"
    }
   ],
   "source": [
    "train_df.head(10)"
   ]
  },
  {
   "cell_type": "code",
   "execution_count": 4,
   "id": "84634f52",
   "metadata": {
    "ExecuteTime": {
     "end_time": "2023-12-05T13:44:36.780528Z",
     "start_time": "2023-12-05T13:44:36.753718Z"
    }
   },
   "outputs": [
    {
     "data": {
      "text/html": [
       "<div>\n",
       "<style scoped>\n",
       "    .dataframe tbody tr th:only-of-type {\n",
       "        vertical-align: middle;\n",
       "    }\n",
       "\n",
       "    .dataframe tbody tr th {\n",
       "        vertical-align: top;\n",
       "    }\n",
       "\n",
       "    .dataframe thead th {\n",
       "        text-align: right;\n",
       "    }\n",
       "</style>\n",
       "<table border=\"1\" class=\"dataframe\">\n",
       "  <thead>\n",
       "    <tr style=\"text-align: right;\">\n",
       "      <th></th>\n",
       "      <th>test_id</th>\n",
       "      <th>question1</th>\n",
       "      <th>question2</th>\n",
       "    </tr>\n",
       "  </thead>\n",
       "  <tbody>\n",
       "    <tr>\n",
       "      <th>0</th>\n",
       "      <td>0</td>\n",
       "      <td>How does the Surface Pro himself 4 compare wit...</td>\n",
       "      <td>Why did Microsoft choose core m3 and not core ...</td>\n",
       "    </tr>\n",
       "    <tr>\n",
       "      <th>1</th>\n",
       "      <td>1</td>\n",
       "      <td>Should I have a hair transplant at age 24? How...</td>\n",
       "      <td>How much cost does hair transplant require?</td>\n",
       "    </tr>\n",
       "    <tr>\n",
       "      <th>2</th>\n",
       "      <td>2</td>\n",
       "      <td>What but is the best way to send money from Ch...</td>\n",
       "      <td>What you send money to China?</td>\n",
       "    </tr>\n",
       "    <tr>\n",
       "      <th>3</th>\n",
       "      <td>3</td>\n",
       "      <td>Which food not emulsifiers?</td>\n",
       "      <td>What foods fibre?</td>\n",
       "    </tr>\n",
       "    <tr>\n",
       "      <th>4</th>\n",
       "      <td>4</td>\n",
       "      <td>How \"aberystwyth\" start reading?</td>\n",
       "      <td>How their can I start reading?</td>\n",
       "    </tr>\n",
       "    <tr>\n",
       "      <th>5</th>\n",
       "      <td>5</td>\n",
       "      <td>How are the two wheeler insurance from Bharti ...</td>\n",
       "      <td>I admire I am considering of buying insurance ...</td>\n",
       "    </tr>\n",
       "    <tr>\n",
       "      <th>6</th>\n",
       "      <td>6</td>\n",
       "      <td>How can I reduce my belly fat through a diet?</td>\n",
       "      <td>How can I reduce my lower belly fat in one month?</td>\n",
       "    </tr>\n",
       "    <tr>\n",
       "      <th>7</th>\n",
       "      <td>7</td>\n",
       "      <td>By scrapping the 500 and 1000 rupee notes, how...</td>\n",
       "      <td>How will the recent move to declare 500 and 10...</td>\n",
       "    </tr>\n",
       "    <tr>\n",
       "      <th>8</th>\n",
       "      <td>8</td>\n",
       "      <td>What are the how best books of all time?</td>\n",
       "      <td>What are some of the military history books of...</td>\n",
       "    </tr>\n",
       "    <tr>\n",
       "      <th>9</th>\n",
       "      <td>9</td>\n",
       "      <td>After 12th years old boy and I had sex with a ...</td>\n",
       "      <td>Can a 14 old guy date a 12 year old girl?</td>\n",
       "    </tr>\n",
       "  </tbody>\n",
       "</table>\n",
       "</div>"
      ],
      "text/plain": [
       "  test_id                                          question1  \\\n",
       "0       0  How does the Surface Pro himself 4 compare wit...   \n",
       "1       1  Should I have a hair transplant at age 24? How...   \n",
       "2       2  What but is the best way to send money from Ch...   \n",
       "3       3                        Which food not emulsifiers?   \n",
       "4       4                   How \"aberystwyth\" start reading?   \n",
       "5       5  How are the two wheeler insurance from Bharti ...   \n",
       "6       6      How can I reduce my belly fat through a diet?   \n",
       "7       7  By scrapping the 500 and 1000 rupee notes, how...   \n",
       "8       8           What are the how best books of all time?   \n",
       "9       9  After 12th years old boy and I had sex with a ...   \n",
       "\n",
       "                                           question2  \n",
       "0  Why did Microsoft choose core m3 and not core ...  \n",
       "1        How much cost does hair transplant require?  \n",
       "2                      What you send money to China?  \n",
       "3                                  What foods fibre?  \n",
       "4                     How their can I start reading?  \n",
       "5  I admire I am considering of buying insurance ...  \n",
       "6  How can I reduce my lower belly fat in one month?  \n",
       "7  How will the recent move to declare 500 and 10...  \n",
       "8  What are some of the military history books of...  \n",
       "9          Can a 14 old guy date a 12 year old girl?  "
      ]
     },
     "execution_count": 4,
     "metadata": {},
     "output_type": "execute_result"
    }
   ],
   "source": [
    "test_df.head(10)"
   ]
  },
  {
   "cell_type": "markdown",
   "id": "fa69baa4",
   "metadata": {},
   "source": [
    "# Data Preprocessing "
   ]
  },
  {
   "cell_type": "code",
   "execution_count": 5,
   "id": "ebdc38ee",
   "metadata": {
    "ExecuteTime": {
     "end_time": "2023-12-05T13:44:37.050221Z",
     "start_time": "2023-12-05T13:44:36.786569Z"
    }
   },
   "outputs": [],
   "source": [
    "train_df.drop(['id', 'qid1', 'qid2'], axis=1, inplace=True)\n",
    "test_df.drop(['test_id'], axis=1,inplace=True)"
   ]
  },
  {
   "cell_type": "code",
   "execution_count": 6,
   "id": "26d5dbdd",
   "metadata": {
    "ExecuteTime": {
     "end_time": "2023-12-05T13:44:37.353313Z",
     "start_time": "2023-12-05T13:44:37.055129Z"
    }
   },
   "outputs": [
    {
     "data": {
      "text/plain": [
       "question1       1\n",
       "question2       2\n",
       "is_duplicate    0\n",
       "dtype: int64"
      ]
     },
     "execution_count": 6,
     "metadata": {},
     "output_type": "execute_result"
    }
   ],
   "source": [
    "train_df.isna().sum()"
   ]
  },
  {
   "cell_type": "code",
   "execution_count": 7,
   "id": "38705752",
   "metadata": {
    "ExecuteTime": {
     "end_time": "2023-12-05T13:44:39.520060Z",
     "start_time": "2023-12-05T13:44:37.359373Z"
    }
   },
   "outputs": [
    {
     "data": {
      "text/plain": [
       "question1    4\n",
       "question2    6\n",
       "dtype: int64"
      ]
     },
     "execution_count": 7,
     "metadata": {},
     "output_type": "execute_result"
    }
   ],
   "source": [
    "test_df.isna().sum()"
   ]
  },
  {
   "cell_type": "code",
   "execution_count": 8,
   "id": "a6cb1a0e",
   "metadata": {
    "ExecuteTime": {
     "end_time": "2023-12-05T13:44:42.461835Z",
     "start_time": "2023-12-05T13:44:39.525403Z"
    }
   },
   "outputs": [],
   "source": [
    "train_df = train_df.dropna()\n",
    "test_df = test_df.dropna()"
   ]
  },
  {
   "cell_type": "code",
   "execution_count": 9,
   "id": "03e394eb",
   "metadata": {
    "ExecuteTime": {
     "end_time": "2023-12-05T13:44:42.749592Z",
     "start_time": "2023-12-05T13:44:42.466713Z"
    }
   },
   "outputs": [
    {
     "data": {
      "text/plain": [
       "question1       0\n",
       "question2       0\n",
       "is_duplicate    0\n",
       "dtype: int64"
      ]
     },
     "execution_count": 9,
     "metadata": {},
     "output_type": "execute_result"
    }
   ],
   "source": [
    "train_df.isna().sum()"
   ]
  },
  {
   "cell_type": "code",
   "execution_count": 10,
   "id": "c9bff24e",
   "metadata": {
    "ExecuteTime": {
     "end_time": "2023-12-05T13:44:44.935188Z",
     "start_time": "2023-12-05T13:44:42.755608Z"
    }
   },
   "outputs": [
    {
     "data": {
      "text/plain": [
       "question1    0\n",
       "question2    0\n",
       "dtype: int64"
      ]
     },
     "execution_count": 10,
     "metadata": {},
     "output_type": "execute_result"
    }
   ],
   "source": [
    "test_df.isna().sum()"
   ]
  },
  {
   "cell_type": "code",
   "execution_count": 11,
   "id": "78451adf",
   "metadata": {
    "ExecuteTime": {
     "end_time": "2023-12-05T13:44:44.961002Z",
     "start_time": "2023-12-05T13:44:44.941202Z"
    }
   },
   "outputs": [
    {
     "data": {
      "text/html": [
       "<div>\n",
       "<style scoped>\n",
       "    .dataframe tbody tr th:only-of-type {\n",
       "        vertical-align: middle;\n",
       "    }\n",
       "\n",
       "    .dataframe tbody tr th {\n",
       "        vertical-align: top;\n",
       "    }\n",
       "\n",
       "    .dataframe thead th {\n",
       "        text-align: right;\n",
       "    }\n",
       "</style>\n",
       "<table border=\"1\" class=\"dataframe\">\n",
       "  <thead>\n",
       "    <tr style=\"text-align: right;\">\n",
       "      <th></th>\n",
       "      <th>question1</th>\n",
       "      <th>question2</th>\n",
       "      <th>is_duplicate</th>\n",
       "    </tr>\n",
       "  </thead>\n",
       "  <tbody>\n",
       "    <tr>\n",
       "      <th>0</th>\n",
       "      <td>What is the step by step guide to invest in sh...</td>\n",
       "      <td>What is the step by step guide to invest in sh...</td>\n",
       "      <td>0</td>\n",
       "    </tr>\n",
       "    <tr>\n",
       "      <th>1</th>\n",
       "      <td>What is the story of Kohinoor (Koh-i-Noor) Dia...</td>\n",
       "      <td>What would happen if the Indian government sto...</td>\n",
       "      <td>0</td>\n",
       "    </tr>\n",
       "    <tr>\n",
       "      <th>2</th>\n",
       "      <td>How can I increase the speed of my internet co...</td>\n",
       "      <td>How can Internet speed be increased by hacking...</td>\n",
       "      <td>0</td>\n",
       "    </tr>\n",
       "    <tr>\n",
       "      <th>3</th>\n",
       "      <td>Why am I mentally very lonely? How can I solve...</td>\n",
       "      <td>Find the remainder when [math]23^{24}[/math] i...</td>\n",
       "      <td>0</td>\n",
       "    </tr>\n",
       "    <tr>\n",
       "      <th>4</th>\n",
       "      <td>Which one dissolve in water quikly sugar, salt...</td>\n",
       "      <td>Which fish would survive in salt water?</td>\n",
       "      <td>0</td>\n",
       "    </tr>\n",
       "    <tr>\n",
       "      <th>...</th>\n",
       "      <td>...</td>\n",
       "      <td>...</td>\n",
       "      <td>...</td>\n",
       "    </tr>\n",
       "    <tr>\n",
       "      <th>404285</th>\n",
       "      <td>How many keywords are there in the Racket prog...</td>\n",
       "      <td>How many keywords are there in PERL Programmin...</td>\n",
       "      <td>0</td>\n",
       "    </tr>\n",
       "    <tr>\n",
       "      <th>404286</th>\n",
       "      <td>Do you believe there is life after death?</td>\n",
       "      <td>Is it true that there is life after death?</td>\n",
       "      <td>1</td>\n",
       "    </tr>\n",
       "    <tr>\n",
       "      <th>404287</th>\n",
       "      <td>What is one coin?</td>\n",
       "      <td>What's this coin?</td>\n",
       "      <td>0</td>\n",
       "    </tr>\n",
       "    <tr>\n",
       "      <th>404288</th>\n",
       "      <td>What is the approx annual cost of living while...</td>\n",
       "      <td>I am having little hairfall problem but I want...</td>\n",
       "      <td>0</td>\n",
       "    </tr>\n",
       "    <tr>\n",
       "      <th>404289</th>\n",
       "      <td>What is like to have sex with cousin?</td>\n",
       "      <td>What is it like to have sex with your cousin?</td>\n",
       "      <td>0</td>\n",
       "    </tr>\n",
       "  </tbody>\n",
       "</table>\n",
       "<p>404287 rows × 3 columns</p>\n",
       "</div>"
      ],
      "text/plain": [
       "                                                question1  \\\n",
       "0       What is the step by step guide to invest in sh...   \n",
       "1       What is the story of Kohinoor (Koh-i-Noor) Dia...   \n",
       "2       How can I increase the speed of my internet co...   \n",
       "3       Why am I mentally very lonely? How can I solve...   \n",
       "4       Which one dissolve in water quikly sugar, salt...   \n",
       "...                                                   ...   \n",
       "404285  How many keywords are there in the Racket prog...   \n",
       "404286          Do you believe there is life after death?   \n",
       "404287                                  What is one coin?   \n",
       "404288  What is the approx annual cost of living while...   \n",
       "404289              What is like to have sex with cousin?   \n",
       "\n",
       "                                                question2  is_duplicate  \n",
       "0       What is the step by step guide to invest in sh...             0  \n",
       "1       What would happen if the Indian government sto...             0  \n",
       "2       How can Internet speed be increased by hacking...             0  \n",
       "3       Find the remainder when [math]23^{24}[/math] i...             0  \n",
       "4                 Which fish would survive in salt water?             0  \n",
       "...                                                   ...           ...  \n",
       "404285  How many keywords are there in PERL Programmin...             0  \n",
       "404286         Is it true that there is life after death?             1  \n",
       "404287                                  What's this coin?             0  \n",
       "404288  I am having little hairfall problem but I want...             0  \n",
       "404289      What is it like to have sex with your cousin?             0  \n",
       "\n",
       "[404287 rows x 3 columns]"
      ]
     },
     "execution_count": 11,
     "metadata": {},
     "output_type": "execute_result"
    }
   ],
   "source": [
    "train_df"
   ]
  },
  {
   "cell_type": "code",
   "execution_count": 12,
   "id": "d38d1a62",
   "metadata": {
    "ExecuteTime": {
     "end_time": "2023-12-05T13:44:44.982745Z",
     "start_time": "2023-12-05T13:44:44.970189Z"
    }
   },
   "outputs": [
    {
     "data": {
      "text/html": [
       "<div>\n",
       "<style scoped>\n",
       "    .dataframe tbody tr th:only-of-type {\n",
       "        vertical-align: middle;\n",
       "    }\n",
       "\n",
       "    .dataframe tbody tr th {\n",
       "        vertical-align: top;\n",
       "    }\n",
       "\n",
       "    .dataframe thead th {\n",
       "        text-align: right;\n",
       "    }\n",
       "</style>\n",
       "<table border=\"1\" class=\"dataframe\">\n",
       "  <thead>\n",
       "    <tr style=\"text-align: right;\">\n",
       "      <th></th>\n",
       "      <th>question1</th>\n",
       "      <th>question2</th>\n",
       "    </tr>\n",
       "  </thead>\n",
       "  <tbody>\n",
       "    <tr>\n",
       "      <th>0</th>\n",
       "      <td>How does the Surface Pro himself 4 compare wit...</td>\n",
       "      <td>Why did Microsoft choose core m3 and not core ...</td>\n",
       "    </tr>\n",
       "    <tr>\n",
       "      <th>1</th>\n",
       "      <td>Should I have a hair transplant at age 24? How...</td>\n",
       "      <td>How much cost does hair transplant require?</td>\n",
       "    </tr>\n",
       "    <tr>\n",
       "      <th>2</th>\n",
       "      <td>What but is the best way to send money from Ch...</td>\n",
       "      <td>What you send money to China?</td>\n",
       "    </tr>\n",
       "    <tr>\n",
       "      <th>3</th>\n",
       "      <td>Which food not emulsifiers?</td>\n",
       "      <td>What foods fibre?</td>\n",
       "    </tr>\n",
       "    <tr>\n",
       "      <th>4</th>\n",
       "      <td>How \"aberystwyth\" start reading?</td>\n",
       "      <td>How their can I start reading?</td>\n",
       "    </tr>\n",
       "  </tbody>\n",
       "</table>\n",
       "</div>"
      ],
      "text/plain": [
       "                                           question1  \\\n",
       "0  How does the Surface Pro himself 4 compare wit...   \n",
       "1  Should I have a hair transplant at age 24? How...   \n",
       "2  What but is the best way to send money from Ch...   \n",
       "3                        Which food not emulsifiers?   \n",
       "4                   How \"aberystwyth\" start reading?   \n",
       "\n",
       "                                           question2  \n",
       "0  Why did Microsoft choose core m3 and not core ...  \n",
       "1        How much cost does hair transplant require?  \n",
       "2                      What you send money to China?  \n",
       "3                                  What foods fibre?  \n",
       "4                     How their can I start reading?  "
      ]
     },
     "execution_count": 12,
     "metadata": {},
     "output_type": "execute_result"
    }
   ],
   "source": [
    "test_df.head()"
   ]
  },
  {
   "cell_type": "code",
   "execution_count": 13,
   "id": "82803ae9",
   "metadata": {
    "ExecuteTime": {
     "end_time": "2023-12-05T13:44:45.050174Z",
     "start_time": "2023-12-05T13:44:44.986826Z"
    }
   },
   "outputs": [],
   "source": [
    "# Select a random subset of 5,000 rows\n",
    "subset_size = 5000\n",
    "train_df = train_df.sample(n=subset_size, random_state=42)"
   ]
  },
  {
   "cell_type": "code",
   "execution_count": 14,
   "id": "c2a0ed01",
   "metadata": {
    "ExecuteTime": {
     "end_time": "2023-12-05T13:44:45.075628Z",
     "start_time": "2023-12-05T13:44:45.054187Z"
    }
   },
   "outputs": [
    {
     "data": {
      "text/html": [
       "<div>\n",
       "<style scoped>\n",
       "    .dataframe tbody tr th:only-of-type {\n",
       "        vertical-align: middle;\n",
       "    }\n",
       "\n",
       "    .dataframe tbody tr th {\n",
       "        vertical-align: top;\n",
       "    }\n",
       "\n",
       "    .dataframe thead th {\n",
       "        text-align: right;\n",
       "    }\n",
       "</style>\n",
       "<table border=\"1\" class=\"dataframe\">\n",
       "  <thead>\n",
       "    <tr style=\"text-align: right;\">\n",
       "      <th></th>\n",
       "      <th>question1</th>\n",
       "      <th>question2</th>\n",
       "      <th>is_duplicate</th>\n",
       "    </tr>\n",
       "  </thead>\n",
       "  <tbody>\n",
       "    <tr>\n",
       "      <th>8067</th>\n",
       "      <td>How do I play Pokémon GO in Korea?</td>\n",
       "      <td>How do I play Pokémon GO in China?</td>\n",
       "      <td>0</td>\n",
       "    </tr>\n",
       "    <tr>\n",
       "      <th>224279</th>\n",
       "      <td>Will a breathing treatment help a cough?</td>\n",
       "      <td>How can I help someone that is unconscious but...</td>\n",
       "      <td>0</td>\n",
       "    </tr>\n",
       "    <tr>\n",
       "      <th>252452</th>\n",
       "      <td>Is Kellyanne Conway annoying in your opinion?</td>\n",
       "      <td>Did Kellyanne Conway really imply that we shou...</td>\n",
       "      <td>0</td>\n",
       "    </tr>\n",
       "    <tr>\n",
       "      <th>174039</th>\n",
       "      <td>How do you rate (1-10) and review Maruti Baleno?</td>\n",
       "      <td>What career options does one have after comple...</td>\n",
       "      <td>0</td>\n",
       "    </tr>\n",
       "    <tr>\n",
       "      <th>384863</th>\n",
       "      <td>What are some good books on marketing?</td>\n",
       "      <td>What are some of the best books ever written a...</td>\n",
       "      <td>1</td>\n",
       "    </tr>\n",
       "    <tr>\n",
       "      <th>...</th>\n",
       "      <td>...</td>\n",
       "      <td>...</td>\n",
       "      <td>...</td>\n",
       "    </tr>\n",
       "    <tr>\n",
       "      <th>222761</th>\n",
       "      <td>Why India is building Aircraft carrier's inste...</td>\n",
       "      <td>Is India looking for a fourth aircraft carrier?</td>\n",
       "      <td>0</td>\n",
       "    </tr>\n",
       "    <tr>\n",
       "      <th>369359</th>\n",
       "      <td>If a die is rolled, what is the probability th...</td>\n",
       "      <td>If a die is rolled. what is the probability th...</td>\n",
       "      <td>0</td>\n",
       "    </tr>\n",
       "    <tr>\n",
       "      <th>46468</th>\n",
       "      <td>How do i stop thinking about someone?</td>\n",
       "      <td>How do I stop thinking about myself?</td>\n",
       "      <td>0</td>\n",
       "    </tr>\n",
       "    <tr>\n",
       "      <th>384046</th>\n",
       "      <td>What are some tips on making it through the jo...</td>\n",
       "      <td>Biology project the effect of sound on plant i...</td>\n",
       "      <td>0</td>\n",
       "    </tr>\n",
       "    <tr>\n",
       "      <th>281006</th>\n",
       "      <td>Is Paytm the biggest gainer of demonetisation?</td>\n",
       "      <td>How much is Paytm going to benefit from recent...</td>\n",
       "      <td>0</td>\n",
       "    </tr>\n",
       "  </tbody>\n",
       "</table>\n",
       "<p>5000 rows × 3 columns</p>\n",
       "</div>"
      ],
      "text/plain": [
       "                                                question1  \\\n",
       "8067                   How do I play Pokémon GO in Korea?   \n",
       "224279           Will a breathing treatment help a cough?   \n",
       "252452      Is Kellyanne Conway annoying in your opinion?   \n",
       "174039   How do you rate (1-10) and review Maruti Baleno?   \n",
       "384863             What are some good books on marketing?   \n",
       "...                                                   ...   \n",
       "222761  Why India is building Aircraft carrier's inste...   \n",
       "369359  If a die is rolled, what is the probability th...   \n",
       "46468               How do i stop thinking about someone?   \n",
       "384046  What are some tips on making it through the jo...   \n",
       "281006     Is Paytm the biggest gainer of demonetisation?   \n",
       "\n",
       "                                                question2  is_duplicate  \n",
       "8067                   How do I play Pokémon GO in China?             0  \n",
       "224279  How can I help someone that is unconscious but...             0  \n",
       "252452  Did Kellyanne Conway really imply that we shou...             0  \n",
       "174039  What career options does one have after comple...             0  \n",
       "384863  What are some of the best books ever written a...             1  \n",
       "...                                                   ...           ...  \n",
       "222761    Is India looking for a fourth aircraft carrier?             0  \n",
       "369359  If a die is rolled. what is the probability th...             0  \n",
       "46468                How do I stop thinking about myself?             0  \n",
       "384046  Biology project the effect of sound on plant i...             0  \n",
       "281006  How much is Paytm going to benefit from recent...             0  \n",
       "\n",
       "[5000 rows x 3 columns]"
      ]
     },
     "execution_count": 14,
     "metadata": {},
     "output_type": "execute_result"
    }
   ],
   "source": [
    "train_df"
   ]
  },
  {
   "cell_type": "markdown",
   "id": "3192366a",
   "metadata": {},
   "source": [
    "# Model Building"
   ]
  },
  {
   "cell_type": "code",
   "execution_count": 15,
   "id": "64b1f560",
   "metadata": {
    "ExecuteTime": {
     "end_time": "2023-12-05T14:00:18.197261Z",
     "start_time": "2023-12-05T13:44:45.086204Z"
    }
   },
   "outputs": [
    {
     "name": "stdout",
     "output_type": "stream",
     "text": [
      "Epoch 1/10\n",
      "134/134 [==============================] - 107s 665ms/step - loss: 0.6382 - binary_accuracy: 0.6490 - val_loss: 0.5876 - val_binary_accuracy: 0.7140\n",
      "Epoch 2/10\n",
      "134/134 [==============================] - 85s 633ms/step - loss: 0.4400 - binary_accuracy: 0.7937 - val_loss: 0.6161 - val_binary_accuracy: 0.6990\n",
      "Epoch 3/10\n",
      "134/134 [==============================] - 84s 628ms/step - loss: 0.2234 - binary_accuracy: 0.9145 - val_loss: 0.8608 - val_binary_accuracy: 0.6450\n",
      "Epoch 4/10\n",
      "134/134 [==============================] - 85s 632ms/step - loss: 0.1188 - binary_accuracy: 0.9575 - val_loss: 1.1431 - val_binary_accuracy: 0.6670\n",
      "Epoch 5/10\n",
      "134/134 [==============================] - 84s 628ms/step - loss: 0.0607 - binary_accuracy: 0.9800 - val_loss: 1.4809 - val_binary_accuracy: 0.6580\n",
      "Epoch 6/10\n",
      "134/134 [==============================] - 83s 621ms/step - loss: 0.0386 - binary_accuracy: 0.9872 - val_loss: 1.4640 - val_binary_accuracy: 0.7030\n",
      "Epoch 7/10\n",
      "134/134 [==============================] - 99s 738ms/step - loss: 0.0201 - binary_accuracy: 0.9940 - val_loss: 1.8790 - val_binary_accuracy: 0.6560\n",
      "Epoch 8/10\n",
      "134/134 [==============================] - 99s 735ms/step - loss: 0.0081 - binary_accuracy: 0.9970 - val_loss: 2.1797 - val_binary_accuracy: 0.6710\n",
      "Epoch 9/10\n",
      "134/134 [==============================] - 92s 687ms/step - loss: 0.0017 - binary_accuracy: 0.9998 - val_loss: 2.4670 - val_binary_accuracy: 0.6740\n",
      "Epoch 10/10\n",
      "134/134 [==============================] - 89s 665ms/step - loss: 0.0010 - binary_accuracy: 1.0000 - val_loss: 2.6535 - val_binary_accuracy: 0.6730\n",
      "32/32 [==============================] - 9s 160ms/step - loss: 2.6535 - binary_accuracy: 0.6730\n",
      "Evaluation Loss: 2.6535, Accuracy: 0.6730\n"
     ]
    }
   ],
   "source": [
    "# Define the preprocessing function\n",
    "def preprocess_text(text):\n",
    "    # Remove punctuation\n",
    "    text = text.lower()\n",
    "    text = re.sub(r'[^\\w\\s]', '', text)\n",
    "\n",
    "    # Tokenize the words\n",
    "    words = text.split()\n",
    "\n",
    "    # Remove stop words\n",
    "    stop_words = set(stopwords.words('english'))\n",
    "    words = [word for word in words if word not in stop_words]\n",
    "\n",
    "    # Lemmatization\n",
    "    lemmatizer = WordNetLemmatizer()\n",
    "    words = [lemmatizer.lemmatize(word) for word in words]\n",
    "\n",
    "    # Remove short words (length less than 3)\n",
    "    words = [word for word in words if len(word) > 2]\n",
    "\n",
    "    # Join the processed words back into a single string\n",
    "    processed_text = ' '.join(words)\n",
    "\n",
    "    # Return the preprocessed text\n",
    "    return processed_text\n",
    "\n",
    "\n",
    "\n",
    "df = train_df\n",
    "\n",
    "# Preprocess the data\n",
    "df['question1'] = df['question1'].apply(preprocess_text)\n",
    "df['question2'] = df['question2'].apply(preprocess_text)\n",
    "\n",
    "# Split the dataset into training and validation sets\n",
    "train_df, val_df = train_test_split(df, test_size=0.2, random_state=42)\n",
    "\n",
    "# Tokenize the text\n",
    "tokenizer = Tokenizer()\n",
    "tokenizer.fit_on_texts(train_df['question1'].tolist() + train_df['question2'].tolist())\n",
    "\n",
    "train_sequences1 = tokenizer.texts_to_sequences(train_df['question1'].tolist())\n",
    "train_sequences2 = tokenizer.texts_to_sequences(train_df['question2'].tolist())\n",
    "\n",
    "val_sequences1 = tokenizer.texts_to_sequences(val_df['question1'].tolist())\n",
    "val_sequences2 = tokenizer.texts_to_sequences(val_df['question2'].tolist())\n",
    "\n",
    "# Pad the sequences to a fixed length\n",
    "max_length = 100\n",
    "train_sequences1 = pad_sequences(train_sequences1, maxlen=max_length)\n",
    "train_sequences2 = pad_sequences(train_sequences2, maxlen=max_length)\n",
    "\n",
    "val_sequences1 = pad_sequences(val_sequences1, maxlen=max_length)\n",
    "val_sequences2 = pad_sequences(val_sequences2, maxlen=max_length)\n",
    "\n",
    "# Calculate the vocabulary size\n",
    "vocabulary_size = len(tokenizer.word_index) + 1\n",
    "\n",
    "# Create the Siamese network model\n",
    "input1 = Input(shape=(max_length,))\n",
    "input2 = Input(shape=(max_length,))\n",
    "\n",
    "embedding_layer = Embedding(input_dim=vocabulary_size, output_dim=128)\n",
    "lstm_layer = Bidirectional(LSTM(128))\n",
    "dense_layer = Dense(128, activation='relu')\n",
    "output_layer = Dense(1, activation='sigmoid')\n",
    "\n",
    "encoded1 = lstm_layer(embedding_layer(input1))\n",
    "encoded2 = lstm_layer(embedding_layer(input2))\n",
    "\n",
    "merged = Concatenate(axis=-1)([encoded1, encoded2])\n",
    "dense_output = dense_layer(merged)\n",
    "output = output_layer(dense_output)\n",
    "\n",
    "model = Model(inputs=[input1, input2], outputs=output)\n",
    "\n",
    "# Compile the model\n",
    "model.compile(optimizer=Adam(),\n",
    "              loss='binary_crossentropy',\n",
    "              metrics=[BinaryAccuracy()])\n",
    "\n",
    "# Train the model\n",
    "model.fit([train_sequences1, train_sequences2], train_df['is_duplicate'],\n",
    "          epochs=10,\n",
    "          batch_size=30,\n",
    "          validation_data=([val_sequences1, val_sequences2], val_df['is_duplicate']))\n",
    "\n",
    "# Save the model\n",
    "model.save('quora_question_similarity_model.h5')\n",
    "\n",
    "# Load the model for later use\n",
    "loaded_model = tf.keras.models.load_model('quora_question_similarity_model.h5')\n",
    "\n",
    "# Evaluate the model on the validation set\n",
    "evaluation = loaded_model.evaluate([val_sequences1, val_sequences2], val_df['is_duplicate'])\n",
    "print(\"Evaluation Loss: {:.4f}, Accuracy: {:.4f}\".format(evaluation[0], evaluation[1]))"
   ]
  },
  {
   "cell_type": "markdown",
   "id": "a9b8d884",
   "metadata": {},
   "source": [
    "# Model Testing"
   ]
  },
  {
   "cell_type": "code",
   "execution_count": 20,
   "id": "de103656",
   "metadata": {
    "ExecuteTime": {
     "end_time": "2023-12-05T14:05:54.017142Z",
     "start_time": "2023-12-05T14:05:54.004210Z"
    }
   },
   "outputs": [],
   "source": [
    "# Select a random subset of 5,000 rows\n",
    "subset_size = 5000\n",
    "test_df= test_df.sample(n=subset_size, random_state=42)"
   ]
  },
  {
   "cell_type": "code",
   "execution_count": 22,
   "id": "71f2f601",
   "metadata": {
    "ExecuteTime": {
     "end_time": "2023-12-05T14:08:07.478021Z",
     "start_time": "2023-12-05T14:07:26.119449Z"
    }
   },
   "outputs": [
    {
     "name": "stdout",
     "output_type": "stream",
     "text": [
      "157/157 [==============================] - 29s 161ms/step\n",
      "[[2.5128532e-08]\n",
      " [1.7763105e-03]\n",
      " [1.2724269e-07]\n",
      " ...\n",
      " [1.5297836e-06]\n",
      " [1.6084478e-04]\n",
      " [1.0628735e-07]]\n"
     ]
    }
   ],
   "source": [
    "# Preprocess the test data\n",
    "test_df['question1'] = test_df['question1'].apply(preprocess_text)\n",
    "test_df['question2'] = test_df['question2'].apply(preprocess_text)\n",
    "\n",
    "# Tokenize and pad the sequences\n",
    "test_sequences1 = tokenizer.texts_to_sequences(test_df['question1'].tolist())\n",
    "test_sequences2 = tokenizer.texts_to_sequences(test_df['question2'].tolist())\n",
    "\n",
    "test_sequences1 = pad_sequences(test_sequences1, maxlen=max_length)\n",
    "test_sequences2 = pad_sequences(test_sequences2, maxlen=max_length)\n",
    "\n",
    "# Load the trained model\n",
    "loaded_model = tf.keras.models.load_model('quora_question_similarity_model.h5')\n",
    "\n",
    "# Predict labels for the test set\n",
    "test_predictions = loaded_model.predict([test_sequences1, test_sequences2])\n",
    "\n",
    "# Example: Display the predicted labels\n",
    "print(test_predictions)"
   ]
  },
  {
   "cell_type": "code",
   "execution_count": 25,
   "id": "b2b7d5fe",
   "metadata": {
    "ExecuteTime": {
     "end_time": "2023-12-05T14:16:00.519888Z",
     "start_time": "2023-12-05T14:16:00.501770Z"
    }
   },
   "outputs": [
    {
     "data": {
      "text/plain": [
       "array([[0],\n",
       "       [0],\n",
       "       [0],\n",
       "       ...,\n",
       "       [0],\n",
       "       [0],\n",
       "       [0]])"
      ]
     },
     "execution_count": 25,
     "metadata": {},
     "output_type": "execute_result"
    }
   ],
   "source": [
    "# Set the threshold\n",
    "threshold = 0.5\n",
    "\n",
    "# Convert probabilities to binary predictions using the threshold\n",
    "binary_predictions = (test_predictions >= threshold).astype(int)\n",
    "binary_predictions"
   ]
  },
  {
   "cell_type": "code",
   "execution_count": null,
   "id": "be5663cf",
   "metadata": {},
   "outputs": [],
   "source": []
  }
 ],
 "metadata": {
  "kernelspec": {
   "display_name": "Python 3 (ipykernel)",
   "language": "python",
   "name": "python3"
  },
  "language_info": {
   "codemirror_mode": {
    "name": "ipython",
    "version": 3
   },
   "file_extension": ".py",
   "mimetype": "text/x-python",
   "name": "python",
   "nbconvert_exporter": "python",
   "pygments_lexer": "ipython3",
   "version": "3.11.4"
  }
 },
 "nbformat": 4,
 "nbformat_minor": 5
}
